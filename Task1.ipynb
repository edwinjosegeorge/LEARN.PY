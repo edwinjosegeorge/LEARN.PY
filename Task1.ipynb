{
 "cells": [
  {
   "cell_type": "markdown",
   "id": "e8ba3e81",
   "metadata": {},
   "source": [
    "# Task1"
   ]
  },
  {
   "cell_type": "markdown",
   "id": "f42a86d0",
   "metadata": {},
   "source": [
    "#### 1. Write a program that uses input to prompt a user for their name and then welcomes them."
   ]
  },
  {
   "cell_type": "code",
   "execution_count": 1,
   "id": "a1249c08",
   "metadata": {},
   "outputs": [
    {
     "name": "stdout",
     "output_type": "stream",
     "text": [
      "Enter your name: Edwin Jose George\n",
      "Hi Edwin Jose George, welcome to python programming...\n"
     ]
    }
   ],
   "source": [
    "name = input(\"Enter your name: \")\n",
    "print(f\"Hi {name}, welcome to python programming...\")"
   ]
  },
  {
   "cell_type": "markdown",
   "id": "43100014",
   "metadata": {},
   "source": [
    "#### 2. Write a program which prompts the user of Celsuis temperature, conver the temperature to Fahrenheit, and print out the converted temperature."
   ]
  },
  {
   "cell_type": "code",
   "execution_count": 2,
   "id": "3ec0de54",
   "metadata": {},
   "outputs": [
    {
     "name": "stdout",
     "output_type": "stream",
     "text": [
      "Enter the temperature in celsius: 35\n",
      "35.0 degree celsius is 95.0 degree fahrenheit\n"
     ]
    }
   ],
   "source": [
    "celsius = float(input(\"Enter the temperature in celsius: \"))\n",
    "fahrenheit = celsius*9/5 + 32\n",
    "print(f\"{celsius} degree celsius is {fahrenheit} degree fahrenheit\")"
   ]
  },
  {
   "cell_type": "markdown",
   "id": "42674753",
   "metadata": {},
   "source": [
    "#### 3. Write a Prython program to convert degree to radian"
   ]
  },
  {
   "cell_type": "code",
   "execution_count": 3,
   "id": "b2f778e4",
   "metadata": {},
   "outputs": [
    {
     "name": "stdout",
     "output_type": "stream",
     "text": [
      "Enter the degrees: 98\n",
      "98.0 degree is 1.7095555555555557 radians\n"
     ]
    }
   ],
   "source": [
    "degree = float(input(\"Enter the degrees: \"))\n",
    "radian = degree * 3.14/180\n",
    "print(f\"{degree} degree is {radian} radians\")"
   ]
  },
  {
   "cell_type": "code",
   "execution_count": null,
   "id": "eaa22c6c",
   "metadata": {},
   "outputs": [],
   "source": []
  }
 ],
 "metadata": {
  "kernelspec": {
   "display_name": "Python 3",
   "language": "python",
   "name": "python3"
  },
  "language_info": {
   "codemirror_mode": {
    "name": "ipython",
    "version": 3
   },
   "file_extension": ".py",
   "mimetype": "text/x-python",
   "name": "python",
   "nbconvert_exporter": "python",
   "pygments_lexer": "ipython3",
   "version": "3.8.5"
  }
 },
 "nbformat": 4,
 "nbformat_minor": 5
}
