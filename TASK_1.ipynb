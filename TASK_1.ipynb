{
 "cells": [
  {
   "cell_type": "markdown",
   "metadata": {
    "colab_type": "text",
    "id": "view-in-github"
   },
   "source": [
    "<a href=\"https://colab.research.google.com/github/EJG2000/LEARN.PY/blob/main/TASK_1.ipynb\" target=\"_parent\"><img src=\"https://colab.research.google.com/assets/colab-badge.svg\" alt=\"Open In Colab\"/></a>"
   ]
  },
  {
   "cell_type": "markdown",
   "metadata": {
    "id": "q-yWxfWESiQo"
   },
   "source": [
    "##### 1.Write a program that uses input to prompt a user for their name and then welcomes them."
   ]
  },
  {
   "cell_type": "code",
   "execution_count": 1,
   "metadata": {
    "colab": {
     "base_uri": "https://localhost:8080/"
    },
    "id": "9ikpRxqMSxu0",
    "outputId": "efc3db6e-1200-42f4-d460-c9ab5c3128d9"
   },
   "outputs": [
    {
     "name": "stdout",
     "output_type": "stream",
     "text": [
      "Enter your name: Edwin Jose George\n",
      "Hi Edwin Jose George, welcome to python programming...\n"
     ]
    }
   ],
   "source": [
    "#please provide your answer here below this line\n",
    "name = input(\"Enter your name: \")\n",
    "print(f\"Hi {name}, welcome to python programming...\")"
   ]
  },
  {
   "cell_type": "markdown",
   "metadata": {
    "id": "Ay5OdxguS-2Z"
   },
   "source": [
    "##### 2.Write a program which prompts the user for a Celsius temperature, convert the temperature to Fahrenheit, and print out the converted temperature."
   ]
  },
  {
   "cell_type": "code",
   "execution_count": 2,
   "metadata": {
    "colab": {
     "base_uri": "https://localhost:8080/"
    },
    "id": "MMv2yWNtTgEu",
    "outputId": "f5aa4560-2542-4c8b-b913-5fdf27ab8ab7"
   },
   "outputs": [
    {
     "name": "stdout",
     "output_type": "stream",
     "text": [
      "Enter the temperature in celsius: 35.8\n",
      "35.8 degree celsius is 96.44 degree fahrenheit\n"
     ]
    }
   ],
   "source": [
    "#please provide your answer here below this line\n",
    "celsius = float(input(\"Enter the temperature in celsius: \"))\n",
    "fahrenheit = celsius*9/5 + 32\n",
    "print(f\"{celsius} degree celsius is {fahrenheit} degree fahrenheit\")"
   ]
  },
  {
   "cell_type": "markdown",
   "metadata": {
    "id": "v6O1a198TpNd"
   },
   "source": [
    "##### 3.Write a Python program to convert degree to radian."
   ]
  },
  {
   "cell_type": "code",
   "execution_count": 3,
   "metadata": {
    "colab": {
     "base_uri": "https://localhost:8080/"
    },
    "id": "27Jj4_D0UQBA",
    "outputId": "7a06c42b-1535-408d-dfdc-aa882ac6e223"
   },
   "outputs": [
    {
     "name": "stdout",
     "output_type": "stream",
     "text": [
      "Enter the degrees: 100.5\n",
      "100.5 degree is 1.7531666666666665 radians\n"
     ]
    }
   ],
   "source": [
    "#please provide your answer here below this line\n",
    "degree = float(input(\"Enter the degrees: \"))\n",
    "radian = degree * 3.14/180\n",
    "print(f\"{degree} degree is {radian} radians\")"
   ]
  },
  {
   "cell_type": "code",
   "execution_count": null,
   "metadata": {
    "id": "wz6cCxZWNC1O"
   },
   "outputs": [],
   "source": []
  }
 ],
 "metadata": {
  "colab": {
   "include_colab_link": true,
   "name": "TASK 1",
   "provenance": []
  },
  "kernelspec": {
   "display_name": "Python 3",
   "language": "python",
   "name": "python3"
  },
  "language_info": {
   "codemirror_mode": {
    "name": "ipython",
    "version": 3
   },
   "file_extension": ".py",
   "mimetype": "text/x-python",
   "name": "python",
   "nbconvert_exporter": "python",
   "pygments_lexer": "ipython3",
   "version": "3.8.5"
  }
 },
 "nbformat": 4,
 "nbformat_minor": 1
}
