{
  "nbformat": 4,
  "nbformat_minor": 0,
  "metadata": {
    "colab": {
      "name": "TASK 8.ipynb",
      "provenance": [],
      "include_colab_link": true
    },
    "kernelspec": {
      "name": "python3",
      "display_name": "Python 3"
    },
    "language_info": {
      "name": "python"
    }
  },
  "cells": [
    {
      "cell_type": "markdown",
      "metadata": {
        "id": "view-in-github",
        "colab_type": "text"
      },
      "source": [
        "<a href=\"https://colab.research.google.com/github/EJG2000/LEARN.PY/blob/main/TASK_8.ipynb\" target=\"_parent\"><img src=\"https://colab.research.google.com/assets/colab-badge.svg\" alt=\"Open In Colab\"/></a>"
      ]
    },
    {
      "cell_type": "markdown",
      "metadata": {
        "id": "slsGswYbJSo7"
      },
      "source": [
        "1. Generate a 3 x 3 matrix using random module."
      ]
    },
    {
      "cell_type": "code",
      "metadata": {
        "id": "GGRQSYyNJW9t",
        "colab": {
          "base_uri": "https://localhost:8080/"
        },
        "outputId": "86d51c3d-f85a-4f66-f1df-2d5181a9bfe4"
      },
      "source": [
        "#please provide your answer below this line.\n",
        "import numpy as np\n",
        "x =  np.random.random((3,3))\n",
        "print(x)"
      ],
      "execution_count": 1,
      "outputs": [
        {
          "output_type": "stream",
          "text": [
            "[[0.45871966 0.39197713 0.10954137]\n",
            " [0.36839271 0.90431265 0.16852885]\n",
            " [0.45290775 0.52636959 0.77318196]]\n"
          ],
          "name": "stdout"
        }
      ]
    },
    {
      "cell_type": "markdown",
      "metadata": {
        "id": "4OB9KFX6JfYA"
      },
      "source": [
        "2. Generate two 4 x 4 matrix using numpy and \n",
        "\n",
        " a) Reshape it to 2 x 8matrix and vertically stack it.\n",
        "\n",
        " b) Reshape it to 2 x 8 matrix and horizontally stack it."
      ]
    },
    {
      "cell_type": "code",
      "metadata": {
        "id": "VoIqYeNWJ4H_",
        "colab": {
          "base_uri": "https://localhost:8080/"
        },
        "outputId": "5263e4f6-8c52-4911-decc-8852f696ea7e"
      },
      "source": [
        "#please provide your answer below this line.\n",
        "import numpy as np\n",
        "\n",
        "arr1 = np.arange(1,17).reshape(4,4)\n",
        "arr2 = np.arange(1,17).reshape(4,4)\n",
        "\n",
        "print(\"Generating Array\")\n",
        "print(arr1,end=\"\\n\\n\")\n",
        "\n",
        "print(\"Reshaping array\")\n",
        "arr1_mod = arr1.reshape(2,8)\n",
        "arr2_mod = arr2.reshape(2,8)\n",
        "print(arr1_mod,end=\"\\n\\n\")\n",
        "\n",
        "print(\"Verticaly stacking\")\n",
        "V_stack = np.vstack((arr1_mod,arr2_mod))\n",
        "print(V_stack,end=\"\\n\\n\")\n",
        "\n",
        "print(\"Horizontally stacking\")\n",
        "H_stack = np.hstack((arr1_mod,arr2_mod))\n",
        "print(H_stack,end=\"\\n\\n\")"
      ],
      "execution_count": 2,
      "outputs": [
        {
          "output_type": "stream",
          "text": [
            "Generating Array\n",
            "[[ 1  2  3  4]\n",
            " [ 5  6  7  8]\n",
            " [ 9 10 11 12]\n",
            " [13 14 15 16]]\n",
            "\n",
            "Reshaping array\n",
            "[[ 1  2  3  4  5  6  7  8]\n",
            " [ 9 10 11 12 13 14 15 16]]\n",
            "\n",
            "Verticaly stacking\n",
            "[[ 1  2  3  4  5  6  7  8]\n",
            " [ 9 10 11 12 13 14 15 16]\n",
            " [ 1  2  3  4  5  6  7  8]\n",
            " [ 9 10 11 12 13 14 15 16]]\n",
            "\n",
            "Horizontally stacking\n",
            "[[ 1  2  3  4  5  6  7  8  1  2  3  4  5  6  7  8]\n",
            " [ 9 10 11 12 13 14 15 16  9 10 11 12 13 14 15 16]]\n",
            "\n"
          ],
          "name": "stdout"
        }
      ]
    },
    {
      "cell_type": "code",
      "metadata": {
        "id": "e7G7pDgIyOaS"
      },
      "source": [
        ""
      ],
      "execution_count": 2,
      "outputs": []
    }
  ]
}