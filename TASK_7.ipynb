{
  "nbformat": 4,
  "nbformat_minor": 0,
  "metadata": {
    "colab": {
      "name": "TASK  7.ipynb",
      "provenance": [],
      "include_colab_link": true
    },
    "kernelspec": {
      "name": "python3",
      "display_name": "Python 3"
    },
    "language_info": {
      "name": "python"
    }
  },
  "cells": [
    {
      "cell_type": "markdown",
      "metadata": {
        "id": "view-in-github",
        "colab_type": "text"
      },
      "source": [
        "<a href=\"https://colab.research.google.com/github/EJG2000/LEARN.PY/blob/main/TASK_7.ipynb\" target=\"_parent\"><img src=\"https://colab.research.google.com/assets/colab-badge.svg\" alt=\"Open In Colab\"/></a>"
      ]
    },
    {
      "cell_type": "markdown",
      "metadata": {
        "id": "b0V3vwzcydKy"
      },
      "source": [
        "1. Write a program to check whether a  string is palindrome or not using functions. \n",
        "\n",
        "   ( A function is to be created to check whether the string is palindrome and it should give the output true or false to the main program)"
      ]
    },
    {
      "cell_type": "code",
      "metadata": {
        "id": "M2Mi7EOdyxiu",
        "outputId": "b8ef6afd-75cc-4dbb-c4f8-6ec046953b8c",
        "colab": {
          "base_uri": "https://localhost:8080/"
        }
      },
      "source": [
        "#please enter the code below this line.\n",
        "def str_palindrome(string : str ) -> bool:\n",
        "  \"\"\"Returns True if the string is palindrome, else False\"\"\"\n",
        "  \n",
        "  size = len(string)\n",
        "  hlf_size = size//2\n",
        "  \n",
        "  for i in range(hlf_size):\n",
        "    if string[i] != string[size-1-i]:\n",
        "      return False\n",
        "  return True\n",
        "\n",
        "#Driver code\n",
        "print(\"abcd :\",str_palindrome(\"abcd\"))\n",
        "print(\"abcdd :\",str_palindrome(\"abcd\"))\n",
        "print(\"abcdcba :\",str_palindrome(\"abcdcba\"))\n",
        "print(\"abcddcba :\",str_palindrome(\"abcddcba\"))"
      ],
      "execution_count": 4,
      "outputs": [
        {
          "output_type": "stream",
          "text": [
            "abcd : False\n",
            "abcdd : False\n",
            "abcdcba : True\n",
            "abcddcba : True\n"
          ],
          "name": "stdout"
        }
      ]
    },
    {
      "cell_type": "markdown",
      "metadata": {
        "id": "vSiShTyOzEz-"
      },
      "source": [
        "2.  Write a menu driven program to find largest element in L, smallest element, avg of all values, sum of all values in L. All these operation should be performed in different functions and the result should be returned.\n",
        "\n",
        "\n",
        "      L=[23,24,11,90,1,41,9,99,28,56,72]"
      ]
    },
    {
      "cell_type": "code",
      "metadata": {
        "id": "fRtMIw_CzsmO",
        "outputId": "a44ed527-8c90-4ec8-d589-4ee7ed86cda7",
        "colab": {
          "base_uri": "https://localhost:8080/"
        }
      },
      "source": [
        "#please enter the code below this line.\n",
        "\n",
        "L=[23,24,11,90,1,41,9,99,28,56,72]\n",
        "\n",
        "def smallestElement()-> int:\n",
        "  \"\"\"\n",
        "  Return the index of smallest element of the list L .\n",
        "  If the list is empty, returns -1 \n",
        "  \"\"\"\n",
        "\n",
        "  size = len(L)\n",
        "  if size == 0:\n",
        "    return -1\n",
        "  \n",
        "  small = 0\n",
        "  for idx in range(1,size):\n",
        "    if L[small] > L[idx]:\n",
        "      small = idx\n",
        "  return small\n",
        "\n",
        "def largestElement()-> int:\n",
        "  \"\"\"\n",
        "  Return the index of largest element of the list L .\n",
        "  If the list is empty, returns -1 \n",
        "  \"\"\"\n",
        "\n",
        "  size = len(L)\n",
        "  if size == 0:\n",
        "    return -1\n",
        "  \n",
        "  large = 0\n",
        "  for idx in range(1,size):\n",
        "    if L[large] < L[idx]:\n",
        "      large = idx\n",
        "  return large\n",
        "\n",
        "def summation()->int:\n",
        "  \"\"\"\n",
        "  Return the sum of elements present in the list L\n",
        "  \"\"\"\n",
        "  aggregate = 0\n",
        "  for ele in L:\n",
        "    aggregate += ele\n",
        "  return aggregate\n",
        "\n",
        "def average()->float:\n",
        "  \"\"\"\n",
        "  Return the average of elements present in the list L\n",
        "  \"\"\"\n",
        "  return summation()/len(L)\n",
        "\n",
        "\n",
        "#Driver code : Menu driven\n",
        "while True:\n",
        "  print(\"\\tMENU\")\n",
        "  print(\"1. Find Largest element from list\")\n",
        "  print(\"2. Find Smallest element from list\")\n",
        "  print(\"3. Find sum of elements in list\")\n",
        "  print(\"4. Find average of element in the list\")\n",
        "  print(\"5. Exit\")\n",
        "\n",
        "  choice = int(input(\"Enter choice <1-5> : \"))\n",
        "  if choice == 1:\n",
        "    idx = largestElement()\n",
        "    print(\"Largest :\",L[idx])\n",
        "  elif choice == 2:\n",
        "    idx = smallestElement()\n",
        "    print(\"Smallest :\",L[idx])\n",
        "  elif choice == 3:\n",
        "    print(\"Sum :\", summation())\n",
        "  elif choice == 4:\n",
        "    print(\"Average :\",average())\n",
        "  elif choice == 5:\n",
        "    print(\"Exit..\")\n",
        "    break\n",
        "  else:\n",
        "    print(\"Wrong choice...\")\n",
        "  print(\"Returning to main menu\\n\")"
      ],
      "execution_count": 7,
      "outputs": [
        {
          "output_type": "stream",
          "text": [
            "\tMENU\n",
            "1. Find Largest element from list\n",
            "2. Find Smallest element from list\n",
            "3. Find sum of elements in list\n",
            "4. Find average of element in the list\n",
            "5. Exit\n",
            "Enter choice <1-5> : 1\n",
            "Largest : 99\n",
            "Returning to main menu\n",
            "\n",
            "\tMENU\n",
            "1. Find Largest element from list\n",
            "2. Find Smallest element from list\n",
            "3. Find sum of elements in list\n",
            "4. Find average of element in the list\n",
            "5. Exit\n",
            "Enter choice <1-5> : 2\n",
            "Smallest : 1\n",
            "Returning to main menu\n",
            "\n",
            "\tMENU\n",
            "1. Find Largest element from list\n",
            "2. Find Smallest element from list\n",
            "3. Find sum of elements in list\n",
            "4. Find average of element in the list\n",
            "5. Exit\n",
            "Enter choice <1-5> : 3\n",
            "Sum : 454\n",
            "Returning to main menu\n",
            "\n",
            "\tMENU\n",
            "1. Find Largest element from list\n",
            "2. Find Smallest element from list\n",
            "3. Find sum of elements in list\n",
            "4. Find average of element in the list\n",
            "5. Exit\n",
            "Enter choice <1-5> : 4\n",
            "Average : 41.27272727272727\n",
            "Returning to main menu\n",
            "\n",
            "\tMENU\n",
            "1. Find Largest element from list\n",
            "2. Find Smallest element from list\n",
            "3. Find sum of elements in list\n",
            "4. Find average of element in the list\n",
            "5. Exit\n",
            "Enter choice <1-5> : 5\n",
            "Exit..\n"
          ],
          "name": "stdout"
        }
      ]
    },
    {
      "cell_type": "code",
      "metadata": {
        "id": "6UMcGxTOt9Hr"
      },
      "source": [
        ""
      ],
      "execution_count": null,
      "outputs": []
    }
  ]
}